{
  "nbformat": 4,
  "nbformat_minor": 0,
  "metadata": {
    "colab": {
      "provenance": [],
      "authorship_tag": "ABX9TyNA+d68Uw/twE+ngKDFlw8N",
      "include_colab_link": true
    },
    "kernelspec": {
      "name": "python3",
      "display_name": "Python 3"
    },
    "language_info": {
      "name": "python"
    }
  },
  "cells": [
    {
      "cell_type": "markdown",
      "metadata": {
        "id": "view-in-github",
        "colab_type": "text"
      },
      "source": [
        "<a href=\"https://colab.research.google.com/github/Vstar-31/IP-project-File/blob/main/IP_Project.ipynb\" target=\"_parent\"><img src=\"https://colab.research.google.com/assets/colab-badge.svg\" alt=\"Open In Colab\"/></a>"
      ]
    },
    {
      "cell_type": "code",
      "source": [
        "#IP PROJECT\n",
        "import pandas as pd, numpy as np, matplotlib.pyplot as plt, io"
      ],
      "metadata": {
        "id": "HVEtJ_97a1i6"
      },
      "execution_count": null,
      "outputs": []
    },
    {
      "cell_type": "code",
      "source": [
        "from google.colab import files\n",
        "uploaded = files.upload()"
      ],
      "metadata": {
        "id": "XSgsiVV7dWM8"
      },
      "execution_count": null,
      "outputs": []
    },
    {
      "cell_type": "code",
      "source": [
        "import io\n",
        "df2 = pd.read_csv(io.BytesIO(uploaded['Filename.csv']))\n",
        "# Dataset is now stored in a Pandas Dataframe"
      ],
      "metadata": {
        "id": "n40AG6EzdZhy"
      },
      "execution_count": null,
      "outputs": []
    },
    {
      "cell_type": "code",
      "source": [
        "#df = pd.read_csv('/content/CSV1.csv')\n",
        "#print(df)"
      ],
      "metadata": {
        "id": "WXP353u5bVQs"
      },
      "execution_count": null,
      "outputs": []
    },
    {
      "cell_type": "code",
      "execution_count": null,
      "metadata": {
        "colab": {
          "base_uri": "https://localhost:8080/"
        },
        "id": "ePJx53JaYvJe",
        "outputId": "b959fda2-0a51-4051-e7ea-19566375a0e7"
      },
      "outputs": [
        {
          "metadata": {
            "tags": null
          },
          "name": "stdout",
          "output_type": "stream",
          "text": [
            "ADMIN MENU\n",
            "Choose an Operation to proceed\n",
            "1: Dataframe Opeations\n",
            "2: Data Analysis\n",
            "3: Data Visualizations\n"
          ]
        }
      ],
      "source": [
        "print('ADMIN MENU')\n",
        "print('Choose an Operation to proceed')\n",
        "print('1: Dataframe Opeations')\n",
        "print('2: Data Analysis')\n",
        "print('3: Data Visualizations')\n",
        "c1 =input()"
      ]
    },
    {
      "cell_type": "code",
      "source": [
        "if c1 == '1':\n",
        "    print('a. Add Entry')\n",
        "    print('b. Remove Entry')\n",
        "    print('c. Update Entry')\n",
        "    print('d. Search for Entry')\n",
        "    print('e. Sort')\n",
        "    print('f. Filter')\n",
        "    print('g. Generate Report')\n",
        "    c2 = input()\n",
        "    if c2 == 'a':\n",
        "      print('')\n",
        "elif c1 == '2':\n",
        "    print('a. Finding total number of stones sold')\n",
        "    print('b. Revenue generated')\n",
        "    print('c. GST to be paid')\n",
        "    c2 = input()\n",
        "elif c1 =='3':\n",
        "    print('a. Pie charts regarding the stones sold')\n",
        "    print('b. Graphs depicting sales of different stones')\n",
        "    print('c. Graphs showing Prices of stones')\n",
        "    print('d. Graphs showing Countries exported to')\n",
        "    c2 = input()\n",
        "else:\n",
        "    print('Invalid Choice, please enter a digit from 1-3')"
      ],
      "metadata": {
        "colab": {
          "base_uri": "https://localhost:8080/"
        },
        "id": "y7K703v4ZCNf",
        "outputId": "64ad396c-0b97-4ded-e82e-b585a1fd4717"
      },
      "execution_count": null,
      "outputs": [
        {
          "name": "stdout",
          "output_type": "stream",
          "text": [
            "a. Add Entry\n",
            "b. Remove Entry\n",
            "c. Update Entry\n",
            "d. Search for Entry\n",
            "e. Sort\n",
            "f. Filter\n",
            "g. Generate Report\n",
            "a\n"
          ]
        }
      ]
    }
  ]
}